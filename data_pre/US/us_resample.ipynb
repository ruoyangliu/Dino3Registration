{
 "cells": [
  {
   "cell_type": "code",
   "execution_count": 1,
   "id": "832a9ef9",
   "metadata": {},
   "outputs": [
    {
     "name": "stdout",
     "output_type": "stream",
     "text": [
      "(249, 398, 302)\n",
      "(0.23642399907112122, 0.23642399907112122, 0.23642399907112122)\n",
      "[118, 188, 143]\n",
      "(118, 188, 143)\n"
     ]
    }
   ],
   "source": [
    "import SimpleITK as sitk\n",
    "\n",
    "us_image = sitk.ReadImage('/home/rl23/Desktop/data/RESECT/RESECT/NIFTI/Case6/US/Case6-US-before.nii.gz')\n",
    "print(us_image.GetSize())\n",
    "print(us_image.GetSpacing())\n",
    "#I want to resample the image to have isotropic spacing of 0.5mm x 0.5mm x 0.5mm\n",
    "new_spacing = [0.5, 0.5, 0.5]\n",
    "original_size = us_image.GetSize()\n",
    "original_spacing = us_image.GetSpacing()\n",
    "new_size = [int(round(original_size[i] * (original_spacing[i] / new_spacing[i]))) for i in range(3)]\n",
    "print(new_size)\n",
    "resample = sitk.ResampleImageFilter()\n",
    "resample.SetOutputSpacing(new_spacing)\n",
    "resample.SetSize(new_size)\n",
    "resample.SetOutputDirection(us_image.GetDirection())\n",
    "resample.SetOutputOrigin(us_image.GetOrigin())\n",
    "\n",
    "resample.SetInterpolator(sitk.sitkLinear)\n",
    "resampled_image = resample.Execute(us_image)\n",
    "print(resampled_image.GetSize())\n",
    "#save the resampled image\n",
    "sitk.WriteImage(resampled_image, '/home/rl23/Desktop/code/Dinov3FeatureExtration /dinov3/data_pre/USCase6-US-before-resampled.nii.gz')"
   ]
  }
 ],
 "metadata": {
  "kernelspec": {
   "display_name": "dino3",
   "language": "python",
   "name": "python3"
  },
  "language_info": {
   "codemirror_mode": {
    "name": "ipython",
    "version": 3
   },
   "file_extension": ".py",
   "mimetype": "text/x-python",
   "name": "python",
   "nbconvert_exporter": "python",
   "pygments_lexer": "ipython3",
   "version": "3.11.13"
  }
 },
 "nbformat": 4,
 "nbformat_minor": 5
}
